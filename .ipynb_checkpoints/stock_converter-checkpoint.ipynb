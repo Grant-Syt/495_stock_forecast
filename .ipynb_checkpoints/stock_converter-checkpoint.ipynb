{
 "cells": [
  {
   "cell_type": "code",
   "execution_count": 1,
   "id": "adverse-charger",
   "metadata": {},
   "outputs": [],
   "source": [
    "import pandas as pd\n",
    "\n",
    "VERBOSE = True"
   ]
  },
  {
   "cell_type": "code",
   "execution_count": 16,
   "id": "working-folks",
   "metadata": {},
   "outputs": [],
   "source": [
    "# specify stock name\n",
    "name = 'ge'\n",
    "\n",
    "# load file to convert\n",
    "df = pd.read_csv('data/stock_data/Stocks/' + name + '.us.txt')\n",
    "# save as\n",
    "destination = 'data/' + name + '_edit.csv'"
   ]
  },
  {
   "cell_type": "code",
   "execution_count": 17,
   "id": "suffering-karen",
   "metadata": {},
   "outputs": [
    {
     "name": "stdout",
     "output_type": "stream",
     "text": [
      "Before:\n",
      "\n",
      "             Date     Open     High      Low    Close     Volume  OpenInt\n",
      "0      1962-01-02   0.6277   0.6362   0.6201   0.6201    2575579        0\n",
      "1      1962-01-03   0.6201   0.6201   0.6122   0.6201    1764749        0\n",
      "2      1962-01-04   0.6201   0.6201   0.6037   0.6122    2194010        0\n",
      "3      1962-01-05   0.6122   0.6122   0.5798   0.5957    3255244        0\n",
      "4      1962-01-08   0.5957   0.5957   0.5716   0.5957    3696430        0\n",
      "...           ...      ...      ...      ...      ...        ...      ...\n",
      "14053  2017-11-06  20.5200  20.5300  20.0800  20.1300   60641787        0\n",
      "14054  2017-11-07  20.1700  20.2500  20.1200  20.2100   41622851        0\n",
      "14055  2017-11-08  20.2100  20.3200  20.0700  20.1200   39672190        0\n",
      "14056  2017-11-09  20.0400  20.0710  19.8500  19.9900   50831779        0\n",
      "14057  2017-11-10  19.9800  20.6800  19.9000  20.4900  100698474        0\n",
      "\n",
      "[14058 rows x 7 columns]\n",
      "\n",
      "\n",
      "After:\n",
      "\n",
      "               ds         y\n",
      "0      1962-01-02   0.62815\n",
      "1      1962-01-03   0.61615\n",
      "2      1962-01-04   0.61190\n",
      "3      1962-01-05   0.59600\n",
      "4      1962-01-08   0.58365\n",
      "...           ...       ...\n",
      "14053  2017-11-06  20.30500\n",
      "14054  2017-11-07  20.18500\n",
      "14055  2017-11-08  20.19500\n",
      "14056  2017-11-09  19.96050\n",
      "14057  2017-11-10  20.29000\n",
      "\n",
      "[14058 rows x 2 columns]\n",
      "\n",
      "\n"
     ]
    }
   ],
   "source": [
    "if VERBOSE:\n",
    "    print ('Before:\\n')\n",
    "    print (df)\n",
    "    print ('\\n')\n",
    "\n",
    "# drop columns\n",
    "df = df.drop(columns=['Open', 'Close', 'Volume', 'OpenInt'])\n",
    "# y (price) is average of High and Low\n",
    "df['y'] = df[['High', 'Low']].mean(axis=1)\n",
    "# drop columns\n",
    "df = df.drop(columns=['High', 'Low'])\n",
    "# rename Date\n",
    "df = df.rename(columns={'Date': 'ds'})\n",
    "\n",
    "if VERBOSE:\n",
    "    print ('After:\\n')\n",
    "    print (df)\n",
    "    print ('\\n')"
   ]
  },
  {
   "cell_type": "code",
   "execution_count": 18,
   "id": "surprised-africa",
   "metadata": {},
   "outputs": [],
   "source": [
    "# save new file\n",
    "df.to_csv(destination, index = False)"
   ]
  },
  {
   "cell_type": "markdown",
   "id": "moved-document",
   "metadata": {},
   "source": [
    "## Continue to select range to remove"
   ]
  },
  {
   "cell_type": "code",
   "execution_count": 19,
   "id": "interested-filing",
   "metadata": {},
   "outputs": [
    {
     "name": "stdout",
     "output_type": "stream",
     "text": [
      "After:\n",
      "\n",
      "               ds        y\n",
      "14030  2017-10-04  24.6600\n",
      "14031  2017-10-05  24.3600\n",
      "14032  2017-10-06  24.3350\n",
      "14033  2017-10-09  23.7000\n",
      "14034  2017-10-10  23.5100\n",
      "14035  2017-10-11  23.0150\n",
      "14036  2017-10-12  22.9450\n",
      "14037  2017-10-13  23.0550\n",
      "14038  2017-10-16  23.2050\n",
      "14039  2017-10-17  23.1250\n",
      "14040  2017-10-18  23.1750\n",
      "14041  2017-10-19  23.4150\n",
      "14042  2017-10-20  22.9700\n",
      "14043  2017-10-23  22.8100\n",
      "14044  2017-10-24  22.0300\n",
      "14045  2017-10-25  21.5950\n",
      "14046  2017-10-26  21.4250\n",
      "14047  2017-10-27  20.9700\n",
      "14048  2017-10-30  20.4900\n",
      "14049  2017-10-31  20.2250\n",
      "14050  2017-11-01  20.2400\n",
      "14051  2017-11-02  19.8525\n",
      "14052  2017-11-03  20.0950\n",
      "14053  2017-11-06  20.3050\n",
      "14054  2017-11-07  20.1850\n",
      "14055  2017-11-08  20.1950\n",
      "14056  2017-11-09  19.9605\n",
      "14057  2017-11-10  20.2900\n",
      "\n",
      "\n"
     ]
    }
   ],
   "source": [
    "# Specify starting and ending index of range to remove\n",
    "starting_idx = 0\n",
    "ending_idx = len(df['y']) - 28\n",
    "\n",
    "df = df.drop(index=range(starting_idx, ending_idx))\n",
    "\n",
    "if VERBOSE:\n",
    "    print ('After:\\n')\n",
    "    print (df)\n",
    "    print ('\\n')"
   ]
  },
  {
   "cell_type": "code",
   "execution_count": 20,
   "id": "continental-white",
   "metadata": {},
   "outputs": [],
   "source": [
    "# save new file\n",
    "df.to_csv(destination, index = False)"
   ]
  },
  {
   "cell_type": "code",
   "execution_count": null,
   "id": "virgin-password",
   "metadata": {},
   "outputs": [],
   "source": []
  }
 ],
 "metadata": {
  "kernelspec": {
   "display_name": "Python 3",
   "language": "python",
   "name": "python3"
  },
  "language_info": {
   "codemirror_mode": {
    "name": "ipython",
    "version": 3
   },
   "file_extension": ".py",
   "mimetype": "text/x-python",
   "name": "python",
   "nbconvert_exporter": "python",
   "pygments_lexer": "ipython3",
   "version": "3.8.5"
  }
 },
 "nbformat": 4,
 "nbformat_minor": 5
}
