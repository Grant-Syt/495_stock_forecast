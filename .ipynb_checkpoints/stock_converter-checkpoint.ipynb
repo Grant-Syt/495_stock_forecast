{
 "cells": [
  {
   "cell_type": "code",
   "execution_count": 26,
   "id": "religious-couple",
   "metadata": {},
   "outputs": [],
   "source": [
    "import pandas as pd\n",
    "\n",
    "VERBOSE = True"
   ]
  },
  {
   "cell_type": "code",
   "execution_count": 27,
   "id": "useful-cincinnati",
   "metadata": {},
   "outputs": [],
   "source": [
    "# specify path of file to convert\n",
    "df = pd.read_csv('data/ibm.us.txt')"
   ]
  },
  {
   "cell_type": "code",
   "execution_count": 28,
   "id": "martial-playback",
   "metadata": {},
   "outputs": [
    {
     "name": "stdout",
     "output_type": "stream",
     "text": [
      "Before:\n",
      "\n",
      "             Date      Open      High       Low     Close   Volume  OpenInt\n",
      "0      1962-01-02    6.4130    6.4130    6.3378    6.3378   467056        0\n",
      "1      1962-01-03    6.3378    6.3963    6.3378    6.3963   350294        0\n",
      "2      1962-01-04    6.3963    6.3963    6.3295    6.3295   314365        0\n",
      "3      1962-01-05    6.3211    6.3211    6.1958    6.2041   440112        0\n",
      "4      1962-01-08    6.2041    6.2041    6.0373    6.0870   655676        0\n",
      "...           ...       ...       ...       ...       ...      ...      ...\n",
      "14054  2017-11-06  150.2700  150.3200  148.7900  149.3500  4543499        0\n",
      "14055  2017-11-07  149.8700  150.0100  149.0100  149.8500  3729501        0\n",
      "14056  2017-11-08  150.1000  150.2800  148.7900  150.0700  4679520        0\n",
      "14057  2017-11-09  149.9300  151.8000  149.8600  150.3000  4776388        0\n",
      "14058  2017-11-10  150.6500  150.8900  149.1400  149.1600  4306433        0\n",
      "\n",
      "[14059 rows x 7 columns]\n",
      "\n",
      "\n",
      "After:\n",
      "\n",
      "               ds          y\n",
      "0      1962-01-02    6.37540\n",
      "1      1962-01-03    6.36705\n",
      "2      1962-01-04    6.36290\n",
      "3      1962-01-05    6.25845\n",
      "4      1962-01-08    6.12070\n",
      "...           ...        ...\n",
      "14054  2017-11-06  149.55500\n",
      "14055  2017-11-07  149.51000\n",
      "14056  2017-11-08  149.53500\n",
      "14057  2017-11-09  150.83000\n",
      "14058  2017-11-10  150.01500\n",
      "\n",
      "[14059 rows x 2 columns]\n",
      "\n",
      "\n"
     ]
    }
   ],
   "source": [
    "if VERBOSE:\n",
    "    print ('Before:\\n')\n",
    "    print (df)\n",
    "    print ('\\n')\n",
    "\n",
    "# drop columns\n",
    "df = df.drop(columns=['Open', 'Close', 'Volume', 'OpenInt'])\n",
    "# y (price) is average of High and Low\n",
    "df['y'] = df[['High', 'Low']].mean(axis=1)\n",
    "# drop columns\n",
    "df = df.drop(columns=['High', 'Low'])\n",
    "# rename Date\n",
    "df = df.rename(columns={'Date': 'ds'})\n",
    "\n",
    "if VERBOSE:\n",
    "    print ('After:\\n')\n",
    "    print (df)\n",
    "    print ('\\n')"
   ]
  },
  {
   "cell_type": "code",
   "execution_count": 29,
   "id": "synthetic-pacific",
   "metadata": {},
   "outputs": [],
   "source": [
    "# specify path to save new file\n",
    "df.to_csv(r'data/ibm_edit.csv', index = False)"
   ]
  },
  {
   "cell_type": "code",
   "execution_count": null,
   "id": "incorporated-popularity",
   "metadata": {},
   "outputs": [],
   "source": []
  }
 ],
 "metadata": {
  "kernelspec": {
   "display_name": "Python 3",
   "language": "python",
   "name": "python3"
  },
  "language_info": {
   "codemirror_mode": {
    "name": "ipython",
    "version": 3
   },
   "file_extension": ".py",
   "mimetype": "text/x-python",
   "name": "python",
   "nbconvert_exporter": "python",
   "pygments_lexer": "ipython3",
   "version": "3.8.5"
  }
 },
 "nbformat": 4,
 "nbformat_minor": 5
}
